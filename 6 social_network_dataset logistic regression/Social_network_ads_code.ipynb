{
 "cells": [
  {
   "cell_type": "markdown",
   "id": "952aea32",
   "metadata": {},
   "source": [
    "## importing the libraries"
   ]
  },
  {
   "cell_type": "code",
   "execution_count": 1,
   "id": "cf119999",
   "metadata": {},
   "outputs": [],
   "source": [
    "import numpy as np\n",
    "import matplotlib.pyplot as plt\n",
    "import pandas as pd"
   ]
  },
  {
   "cell_type": "markdown",
   "id": "c4b3b873",
   "metadata": {},
   "source": [
    "## importing the dataset"
   ]
  },
  {
   "cell_type": "code",
   "execution_count": 2,
   "id": "81cac328",
   "metadata": {},
   "outputs": [],
   "source": [
    "dataset = pd.read_csv('Social_Network_Ads.csv')\n",
    "X = dataset.iloc[:, :-1].values\n",
    "y = dataset.iloc[:, -1].values"
   ]
  },
  {
   "cell_type": "markdown",
   "id": "f47ef149",
   "metadata": {},
   "source": [
    "## splitting the dataset into the training set and test set"
   ]
  },
  {
   "cell_type": "code",
   "execution_count": 3,
   "id": "df7ec426",
   "metadata": {},
   "outputs": [],
   "source": [
    "from sklearn.model_selection import train_test_split\n",
    "X_train, X_test, y_train, y_test = train_test_split(X, y, test_size=0.25, random_state=0)"
   ]
  },
  {
   "cell_type": "markdown",
   "id": "fc73b275",
   "metadata": {},
   "source": [
    "## featur scaling to imporve the preformance"
   ]
  },
  {
   "cell_type": "code",
   "execution_count": 7,
   "id": "89a02f34",
   "metadata": {},
   "outputs": [],
   "source": [
    "from sklearn.preprocessing import StandardScaler\n",
    "sc = StandardScaler()\n",
    "X_train = sc.fit_transform(X_train)\n",
    "X_test = sc.transform(X_test)"
   ]
  },
  {
   "cell_type": "markdown",
   "id": "1fcf265f",
   "metadata": {},
   "source": [
    "## training the logistics regresssion model on the training set"
   ]
  },
  {
   "cell_type": "code",
   "execution_count": 8,
   "id": "bc23bc6c",
   "metadata": {},
   "outputs": [
    {
     "data": {
      "text/plain": [
       "LogisticRegression(random_state=0)"
      ]
     },
     "execution_count": 8,
     "metadata": {},
     "output_type": "execute_result"
    }
   ],
   "source": [
    "from sklearn.linear_model import LogisticRegression\n",
    "classifier = LogisticRegression(random_state=0)\n",
    "classifier.fit(X_train, y_train) # train the classifier"
   ]
  },
  {
   "cell_type": "markdown",
   "id": "e4b5cf73",
   "metadata": {},
   "source": [
    "## predicting a new result"
   ]
  },
  {
   "cell_type": "code",
   "execution_count": 9,
   "id": "8265ba58",
   "metadata": {},
   "outputs": [
    {
     "name": "stdout",
     "output_type": "stream",
     "text": [
      "[0]\n"
     ]
    }
   ],
   "source": [
    "print(classifier.predict(sc.transform([[30, 87000]])))"
   ]
  },
  {
   "cell_type": "markdown",
   "id": "08dfb4a5",
   "metadata": {},
   "source": [
    "## predicting the test set result"
   ]
  },
  {
   "cell_type": "code",
   "execution_count": 10,
   "id": "d9eb082b",
   "metadata": {},
   "outputs": [
    {
     "name": "stdout",
     "output_type": "stream",
     "text": [
      "[[0 0]\n",
      " [0 0]\n",
      " [0 0]\n",
      " [0 0]\n",
      " [0 0]\n",
      " [0 0]\n",
      " [0 0]\n",
      " [1 1]\n",
      " [0 0]\n",
      " [1 0]\n",
      " [0 0]\n",
      " [0 0]\n",
      " [0 0]\n",
      " [0 0]\n",
      " [0 0]\n",
      " [0 0]\n",
      " [0 0]\n",
      " [0 0]\n",
      " [1 1]\n",
      " [0 0]\n",
      " [0 0]\n",
      " [1 1]\n",
      " [0 0]\n",
      " [1 1]\n",
      " [0 0]\n",
      " [1 1]\n",
      " [0 0]\n",
      " [0 0]\n",
      " [0 0]\n",
      " [0 0]\n",
      " [0 0]\n",
      " [0 1]\n",
      " [1 1]\n",
      " [0 0]\n",
      " [0 0]\n",
      " [0 0]\n",
      " [0 0]\n",
      " [0 0]\n",
      " [0 0]\n",
      " [1 1]\n",
      " [0 0]\n",
      " [0 0]\n",
      " [0 0]\n",
      " [0 0]\n",
      " [1 1]\n",
      " [0 0]\n",
      " [0 0]\n",
      " [1 1]\n",
      " [0 0]\n",
      " [1 1]\n",
      " [1 1]\n",
      " [0 0]\n",
      " [0 0]\n",
      " [0 0]\n",
      " [1 1]\n",
      " [0 1]\n",
      " [0 0]\n",
      " [0 0]\n",
      " [0 1]\n",
      " [0 0]\n",
      " [0 0]\n",
      " [1 1]\n",
      " [0 0]\n",
      " [0 1]\n",
      " [0 0]\n",
      " [1 1]\n",
      " [0 0]\n",
      " [0 0]\n",
      " [0 0]\n",
      " [0 0]\n",
      " [1 1]\n",
      " [0 0]\n",
      " [0 0]\n",
      " [0 1]\n",
      " [0 0]\n",
      " [0 0]\n",
      " [1 0]\n",
      " [0 0]\n",
      " [1 1]\n",
      " [1 1]\n",
      " [1 1]\n",
      " [1 0]\n",
      " [0 0]\n",
      " [0 0]\n",
      " [1 1]\n",
      " [1 1]\n",
      " [0 0]\n",
      " [1 1]\n",
      " [0 1]\n",
      " [0 0]\n",
      " [0 0]\n",
      " [1 1]\n",
      " [0 0]\n",
      " [0 0]\n",
      " [0 0]\n",
      " [0 1]\n",
      " [0 0]\n",
      " [0 1]\n",
      " [1 1]\n",
      " [1 1]]\n"
     ]
    }
   ],
   "source": [
    "y_pred = classifier.predict(X_test)\n",
    "#y_pred\n",
    "print(np.concatenate((y_pred.reshape(len(y_pred), 1), y_test.reshape(len(y_test), 1)), 1))"
   ]
  },
  {
   "cell_type": "markdown",
   "id": "3359f65b",
   "metadata": {},
   "source": [
    "## predicting the probability"
   ]
  },
  {
   "cell_type": "code",
   "execution_count": 11,
   "id": "def377e2",
   "metadata": {},
   "outputs": [
    {
     "data": {
      "text/plain": [
       "array([[0.88725351, 0.11274649],\n",
       "       [0.83324206, 0.16675794],\n",
       "       [0.80549253, 0.19450747],\n",
       "       [0.91056209, 0.08943791],\n",
       "       [0.90253903, 0.09746097],\n",
       "       [0.99212979, 0.00787021],\n",
       "       [0.9848589 , 0.0151411 ],\n",
       "       [0.26779092, 0.73220908],\n",
       "       [0.99419108, 0.00580892],\n",
       "       [0.49579544, 0.50420456],\n",
       "       [0.96395406, 0.03604594],\n",
       "       [0.97081333, 0.02918667],\n",
       "       [0.83936154, 0.16063846],\n",
       "       [0.63040685, 0.36959315],\n",
       "       [0.98450737, 0.01549263],\n",
       "       [0.66506265, 0.33493735],\n",
       "       [0.72016534, 0.27983466],\n",
       "       [0.98774666, 0.01225334],\n",
       "       [0.01139953, 0.98860047],\n",
       "       [0.95799724, 0.04200276],\n",
       "       [0.91070984, 0.08929016],\n",
       "       [0.03668135, 0.96331865],\n",
       "       [0.72304389, 0.27695611],\n",
       "       [0.11787963, 0.88212037],\n",
       "       [0.99551213, 0.00448787],\n",
       "       [0.02704431, 0.97295569],\n",
       "       [0.92232099, 0.07767901],\n",
       "       [0.92371914, 0.07628086],\n",
       "       [0.80661256, 0.19338744],\n",
       "       [0.84341507, 0.15658493],\n",
       "       [0.97980137, 0.02019863],\n",
       "       [0.70700864, 0.29299136],\n",
       "       [0.06782035, 0.93217965],\n",
       "       [0.84785394, 0.15214606],\n",
       "       [0.98566324, 0.01433676],\n",
       "       [0.99652123, 0.00347877],\n",
       "       [0.98018715, 0.01981285],\n",
       "       [0.93442624, 0.06557376],\n",
       "       [0.97244034, 0.02755966],\n",
       "       [0.44947292, 0.55052708],\n",
       "       [0.93387384, 0.06612616],\n",
       "       [0.71655153, 0.28344847],\n",
       "       [0.94139491, 0.05860509],\n",
       "       [0.96051284, 0.03948716],\n",
       "       [0.19538951, 0.80461049],\n",
       "       [0.97375051, 0.02624949],\n",
       "       [0.7002962 , 0.2997038 ],\n",
       "       [0.07188441, 0.92811559],\n",
       "       [0.99116814, 0.00883186],\n",
       "       [0.14035391, 0.85964609],\n",
       "       [0.00979045, 0.99020955],\n",
       "       [0.96217391, 0.03782609],\n",
       "       [0.88084143, 0.11915857],\n",
       "       [0.58394773, 0.41605227],\n",
       "       [0.01920237, 0.98079763],\n",
       "       [0.67887409, 0.32112591],\n",
       "       [0.91662981, 0.08337019],\n",
       "       [0.95734278, 0.04265722],\n",
       "       [0.51367858, 0.48632142],\n",
       "       [0.99652752, 0.00347248],\n",
       "       [0.97962483, 0.02037517],\n",
       "       [0.06548521, 0.93451479],\n",
       "       [0.99080034, 0.00919966],\n",
       "       [0.6089113 , 0.3910887 ],\n",
       "       [0.99814664, 0.00185336],\n",
       "       [0.01837828, 0.98162172],\n",
       "       [0.96204152, 0.03795848],\n",
       "       [0.97375051, 0.02624949],\n",
       "       [0.78482933, 0.21517067],\n",
       "       [0.53552032, 0.46447968],\n",
       "       [0.40700336, 0.59299664],\n",
       "       [0.79520675, 0.20479325],\n",
       "       [0.98880303, 0.01119697],\n",
       "       [0.74469446, 0.25530554],\n",
       "       [0.93185794, 0.06814206],\n",
       "       [0.99091371, 0.00908629],\n",
       "       [0.46321694, 0.53678306],\n",
       "       [0.70589942, 0.29410058],\n",
       "       [0.2766666 , 0.7233334 ],\n",
       "       [0.11134787, 0.88865213],\n",
       "       [0.00394886, 0.99605114],\n",
       "       [0.02248034, 0.97751966],\n",
       "       [0.98696583, 0.01303417],\n",
       "       [0.98964178, 0.01035822],\n",
       "       [0.10734812, 0.89265188],\n",
       "       [0.45522288, 0.54477712],\n",
       "       [0.5969289 , 0.4030711 ],\n",
       "       [0.0050397 , 0.9949603 ],\n",
       "       [0.56296967, 0.43703033],\n",
       "       [0.66147882, 0.33852118],\n",
       "       [0.58308908, 0.41691092],\n",
       "       [0.21824871, 0.78175129],\n",
       "       [0.99149077, 0.00850923],\n",
       "       [0.99207365, 0.00792635],\n",
       "       [0.96750141, 0.03249859],\n",
       "       [0.91608066, 0.08391934],\n",
       "       [0.98628144, 0.01371856],\n",
       "       [0.52483762, 0.47516238],\n",
       "       [0.14989075, 0.85010925],\n",
       "       [0.27844761, 0.72155239]])"
      ]
     },
     "execution_count": 11,
     "metadata": {},
     "output_type": "execute_result"
    }
   ],
   "source": [
    "pred_prob = classifier.predict_proba(X_test)\n",
    "pred_prob"
   ]
  },
  {
   "cell_type": "markdown",
   "id": "a5e775eb",
   "metadata": {},
   "source": [
    "## performace measures"
   ]
  },
  {
   "cell_type": "markdown",
   "id": "d03e83ea",
   "metadata": {},
   "source": [
    "## accuracy"
   ]
  },
  {
   "cell_type": "code",
   "execution_count": 13,
   "id": "a4b0ce4d",
   "metadata": {},
   "outputs": [
    {
     "data": {
      "text/plain": [
       "0.89"
      ]
     },
     "execution_count": 13,
     "metadata": {},
     "output_type": "execute_result"
    }
   ],
   "source": [
    "acc = classifier.score(X_test, y_test)\n",
    "acc"
   ]
  },
  {
   "cell_type": "markdown",
   "id": "f8532252",
   "metadata": {},
   "source": [
    "## confusion matrix"
   ]
  },
  {
   "cell_type": "code",
   "execution_count": 19,
   "id": "92e31494",
   "metadata": {},
   "outputs": [
    {
     "data": {
      "text/plain": [
       "<AxesSubplot:>"
      ]
     },
     "execution_count": 19,
     "metadata": {},
     "output_type": "execute_result"
    },
    {
     "data": {
      "image/png": "[encoded data removed]",
      "text/plain": [
       "<Figure size 432x288 with 2 Axes>"
      ]
     },
     "metadata": {
      "needs_background": "light"
     },
     "output_type": "display_data"
    }
   ],
   "source": [
    "from sklearn.metrics import confusion_matrix\n",
    "import seaborn as sns\n",
    "cm = confusion_matrix(y_test, y_pred)\n",
    "sns.heatmap(cm, annot=True)"
   ]
  },
  {
   "cell_type": "markdown",
   "id": "410c5c43",
   "metadata": {},
   "source": [
    "### log_loss :Log-loss is indicative of how close the\n",
    "### prediction probability is to the corresponding actual/true\n",
    "### value (0 or 1 in case of binary classification)."
   ]
  },
  {
   "cell_type": "code",
   "execution_count": 20,
   "id": "ecc0fee5",
   "metadata": {},
   "outputs": [
    {
     "data": {
      "text/plain": [
       "0.2733282642704013"
      ]
     },
     "execution_count": 20,
     "metadata": {},
     "output_type": "execute_result"
    }
   ],
   "source": [
    "from sklearn.metrics import log_loss\n",
    "log_loss(y_test, pred_prob)"
   ]
  },
  {
   "cell_type": "markdown",
   "id": "b80307c2",
   "metadata": {},
   "source": [
    "## classification report"
   ]
  },
  {
   "cell_type": "code",
   "execution_count": 21,
   "id": "7da0920b",
   "metadata": {},
   "outputs": [
    {
     "name": "stdout",
     "output_type": "stream",
     "text": [
      "              precision    recall  f1-score   support\n",
      "\n",
      "           0       0.89      0.96      0.92        68\n",
      "           1       0.89      0.75      0.81        32\n",
      "\n",
      "    accuracy                           0.89       100\n",
      "   macro avg       0.89      0.85      0.87       100\n",
      "weighted avg       0.89      0.89      0.89       100\n",
      "\n"
     ]
    }
   ],
   "source": [
    "from sklearn.metrics import classification_report\n",
    "print(classification_report(y_test, y_pred))"
   ]
  },
  {
   "cell_type": "code",
   "execution_count": null,
   "id": "acee4c67",
   "metadata": {},
   "outputs": [],
   "source": []
  }
 ],
 "metadata": {
  "kernelspec": {
   "display_name": "Python 3 (ipykernel)",
   "language": "python",
   "name": "python3"
  },
  "language_info": {
   "codemirror_mode": {
    "name": "ipython",
    "version": 3
   },
   "file_extension": ".py",
   "mimetype": "text/x-python",
   "name": "python",
   "nbconvert_exporter": "python",
   "pygments_lexer": "ipython3",
   "version": "3.9.6"
  }
 },
 "nbformat": 4,
 "nbformat_minor": 5
}
