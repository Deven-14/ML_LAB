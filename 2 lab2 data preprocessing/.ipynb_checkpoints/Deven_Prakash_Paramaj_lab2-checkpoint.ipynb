{
 "cells": [
  {
   "cell_type": "code",
   "execution_count": 2,
   "id": "3eaec85f",
   "metadata": {},
   "outputs": [],
   "source": [
    "import numpy as np\n",
    "import matplotlib.pyplot as plt\n",
    "import pandas as pd"
   ]
  },
  {
   "cell_type": "code",
   "execution_count": 3,
   "id": "796db65e",
   "metadata": {},
   "outputs": [
    {
     "name": "stdout",
     "output_type": "stream",
     "text": [
      "  Ethnicity  Height (CM)  Weight (Kg) Will survive till 70\n",
      "0     White        186.0         90.0                  Yes\n",
      "1   African        185.0         98.0                   No\n",
      "2     White        175.0         80.0                   No\n",
      "3     White        180.0         88.0                  Yes\n",
      "4     Asian        178.0          NaN                   No\n",
      "5     Asian        172.0         72.0                  Yes\n",
      "6   African        178.0         75.0                   No\n",
      "7     White          NaN         89.0                  Yes\n",
      "8   African        186.0         90.0                  Yes\n"
     ]
    }
   ],
   "source": [
    "healthData = pd.read_csv('Health.csv')\n",
    "print(healthData)"
   ]
  },
  {
   "cell_type": "code",
   "execution_count": 4,
   "id": "265fda8b",
   "metadata": {},
   "outputs": [],
   "source": [
    "X = healthData.iloc[:, :-1].values\n",
    "y = healthData.iloc[:,-1].values"
   ]
  },
  {
   "cell_type": "code",
   "execution_count": 5,
   "id": "6a3730ee",
   "metadata": {},
   "outputs": [
    {
     "data": {
      "text/plain": [
       "array([['White', 186.0, 90.0],\n",
       "       ['African', 185.0, 98.0],\n",
       "       ['White', 175.0, 80.0],\n",
       "       ['White', 180.0, 88.0],\n",
       "       ['Asian', 178.0, nan],\n",
       "       ['Asian', 172.0, 72.0],\n",
       "       ['African', 178.0, 75.0],\n",
       "       ['White', nan, 89.0],\n",
       "       ['African', 186.0, 90.0]], dtype=object)"
      ]
     },
     "execution_count": 5,
     "metadata": {},
     "output_type": "execute_result"
    }
   ],
   "source": [
    "X"
   ]
  },
  {
   "cell_type": "code",
   "execution_count": 6,
   "id": "b1151707",
   "metadata": {},
   "outputs": [
    {
     "data": {
      "text/plain": [
       "array(['Yes', 'No', 'No', 'Yes', 'No', 'Yes', 'No', 'Yes', 'Yes'],\n",
       "      dtype=object)"
      ]
     },
     "execution_count": 6,
     "metadata": {},
     "output_type": "execute_result"
    }
   ],
   "source": [
    "y"
   ]
  },
  {
   "cell_type": "code",
   "execution_count": 7,
   "id": "a0aa7dd9",
   "metadata": {},
   "outputs": [
    {
     "name": "stdout",
     "output_type": "stream",
     "text": [
      "[['White' 186.0 90.0]\n",
      " ['African' 185.0 98.0]\n",
      " ['White' 175.0 80.0]\n",
      " ['White' 180.0 88.0]\n",
      " ['Asian' 178.0 85.25]\n",
      " ['Asian' 172.0 72.0]\n",
      " ['African' 178.0 75.0]\n",
      " ['White' 180.0 89.0]\n",
      " ['African' 186.0 90.0]]\n"
     ]
    }
   ],
   "source": [
    "from sklearn.impute import SimpleImputer\n",
    "imputer = SimpleImputer(missing_values=np.nan, strategy='mean')\n",
    "imputer.fit(X[:, 1:3])\n",
    "X[:, 1:3] = imputer.transform(X[:, 1:3])\n",
    "print(X)"
   ]
  },
  {
   "cell_type": "code",
   "execution_count": 8,
   "id": "a20b1013",
   "metadata": {},
   "outputs": [
    {
     "name": "stdout",
     "output_type": "stream",
     "text": [
      "[[2 186.0 90.0]\n",
      " [0 185.0 98.0]\n",
      " [2 175.0 80.0]\n",
      " [2 180.0 88.0]\n",
      " [1 178.0 85.25]\n",
      " [1 172.0 72.0]\n",
      " [0 178.0 75.0]\n",
      " [2 180.0 89.0]\n",
      " [0 186.0 90.0]]\n"
     ]
    }
   ],
   "source": [
    "from sklearn.preprocessing import LabelEncoder\n",
    "X_labelencoder = LabelEncoder()\n",
    "X[:, 0] = X_labelencoder.fit_transform(X[:, 0])\n",
    "print(X)"
   ]
  },
  {
   "cell_type": "code",
   "execution_count": 9,
   "id": "cf4e1cb2",
   "metadata": {},
   "outputs": [
    {
     "name": "stdout",
     "output_type": "stream",
     "text": [
      "[1 0 0 1 0 1 0 1 1]\n"
     ]
    }
   ],
   "source": [
    "y_labelencoder = LabelEncoder()\n",
    "y = y_labelencoder.fit_transform(y)\n",
    "print(y)"
   ]
  },
  {
   "cell_type": "code",
   "execution_count": 10,
   "id": "eefe6bd1",
   "metadata": {},
   "outputs": [
    {
     "name": "stdout",
     "output_type": "stream",
     "text": [
      "[[0.0 0.0 1.0 186.0 90.0]\n",
      " [1.0 0.0 0.0 185.0 98.0]\n",
      " [0.0 0.0 1.0 175.0 80.0]\n",
      " [0.0 0.0 1.0 180.0 88.0]\n",
      " [0.0 1.0 0.0 178.0 85.25]\n",
      " [0.0 1.0 0.0 172.0 72.0]\n",
      " [1.0 0.0 0.0 178.0 75.0]\n",
      " [0.0 0.0 1.0 180.0 89.0]\n",
      " [1.0 0.0 0.0 186.0 90.0]]\n"
     ]
    }
   ],
   "source": [
    "from sklearn.compose import ColumnTransformer\n",
    "from sklearn.preprocessing import OneHotEncoder\n",
    "ct = ColumnTransformer(transformers=[('encoder', OneHotEncoder(), [0])], remainder='passthrough')\n",
    "X = np.array(ct.fit_transform(X))\n",
    "print(X)"
   ]
  },
  {
   "cell_type": "code",
   "execution_count": 11,
   "id": "37188770",
   "metadata": {},
   "outputs": [
    {
     "name": "stdout",
     "output_type": "stream",
     "text": [
      "[[0.0 0.0 1.0 1.2923246855119286 0.614646807259599]\n",
      " [1.0 0.0 0.0 1.0769372379266071 1.6498414300126079]\n",
      " [0.0 0.0 1.0 -1.0769372379266071 -0.679346471181662]\n",
      " [0.0 0.0 1.0 0.0 0.3558481515713468]\n",
      " [0.0 1.0 0.0 -0.4307748951706428 0.0]\n",
      " [0.0 1.0 0.0 -1.7230995806825713 -1.7145410939346708]\n",
      " [1.0 0.0 0.0 -0.4307748951706428 -1.3263431104022927]\n",
      " [0.0 0.0 1.0 0.0 0.4852474794154729]\n",
      " [1.0 0.0 0.0 1.2923246855119286 0.614646807259599]]\n"
     ]
    }
   ],
   "source": [
    "from sklearn.preprocessing import StandardScaler\n",
    "independent_scalar = StandardScaler()\n",
    "X[:, 3:] = independent_scalar.fit_transform(X[:, 3:])\n",
    "print(X)"
   ]
  },
  {
   "cell_type": "code",
   "execution_count": 12,
   "id": "649c8990",
   "metadata": {},
   "outputs": [
    {
     "name": "stdout",
     "output_type": "stream",
     "text": [
      "[[1.0 0.0 0.0 -0.4307748951706428 -1.3263431104022927]\n",
      " [0.0 0.0 1.0 0.0 0.4852474794154729]\n",
      " [1.0 0.0 0.0 1.0769372379266071 1.6498414300126079]\n",
      " [0.0 0.0 1.0 1.2923246855119286 0.614646807259599]\n",
      " [0.0 1.0 0.0 -0.4307748951706428 0.0]\n",
      " [0.0 0.0 1.0 0.0 0.3558481515713468]\n",
      " [0.0 1.0 0.0 -1.7230995806825713 -1.7145410939346708]]\n",
      "[[1.0 0.0 0.0 1.2923246855119286 0.614646807259599]\n",
      " [0.0 0.0 1.0 -1.0769372379266071 -0.679346471181662]]\n",
      "[0 1 0 1 0 1 1]\n",
      "[1 0]\n"
     ]
    }
   ],
   "source": [
    "from sklearn.model_selection import train_test_split\n",
    "X_train, X_test, y_train, y_test = train_test_split(X, y, test_size=0.2, random_state=1)\n",
    "print(X_train, X_test, y_train, y_test, sep='\\n')"
   ]
  },
  {
   "cell_type": "code",
   "execution_count": null,
   "id": "ab377675",
   "metadata": {},
   "outputs": [],
   "source": []
  }
 ],
 "metadata": {
  "kernelspec": {
   "display_name": "Python 3 (ipykernel)",
   "language": "python",
   "name": "python3"
  },
  "language_info": {
   "codemirror_mode": {
    "name": "ipython",
    "version": 3
   },
   "file_extension": ".py",
   "mimetype": "text/x-python",
   "name": "python",
   "nbconvert_exporter": "python",
   "pygments_lexer": "ipython3",
   "version": "3.9.6"
  }
 },
 "nbformat": 4,
 "nbformat_minor": 5
}
