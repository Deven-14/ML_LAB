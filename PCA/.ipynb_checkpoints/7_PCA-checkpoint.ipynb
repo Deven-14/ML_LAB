{
 "cells": [
  {
   "cell_type": "markdown",
   "metadata": {
    "id": "z4S10IeM7q4Y"
   },
   "source": [
    "## **Import Libraries**"
   ]
  },
  {
   "cell_type": "code",
   "execution_count": null,
   "metadata": {
    "id": "4fif9VTw7WTb"
   },
   "outputs": [],
   "source": [
    "import numpy as np\n",
    "import matplotlib.pyplot as plt"
   ]
  },
  {
   "cell_type": "markdown",
   "metadata": {
    "id": "s2jLvF3r74qj"
   },
   "source": [
    "# **Load the MNIST Data**"
   ]
  },
  {
   "cell_type": "code",
   "execution_count": null,
   "metadata": {
    "id": "2xz1djTG7s9g"
   },
   "outputs": [],
   "source": [
    "from sklearn.datasets import fetch_openml\n",
    "mnist = fetch_openml('mnist_784')"
   ]
  },
  {
   "cell_type": "markdown",
   "metadata": {
    "id": "ExZmCEoS8Lg6"
   },
   "source": [
    "# **Split Data into Training and Test Set**"
   ]
  },
  {
   "cell_type": "code",
   "execution_count": null,
   "metadata": {
    "id": "G5wDJMDf8KGT"
   },
   "outputs": [],
   "source": [
    "from sklearn.model_selection import train_test_split\n",
    "\n",
    "x = mnist[\"data\"]\n",
    "y = mnist[\"target\"]\n",
    "\n",
    "x_train, x_test, y_train, y_test = train_test_split(x, y) "
   ]
  },
  {
   "cell_type": "code",
   "execution_count": null,
   "metadata": {
    "colab": {
     "base_uri": "https://localhost:8080/"
    },
    "executionInfo": {
     "elapsed": 6,
     "status": "ok",
     "timestamp": 1640240460174,
     "user": {
      "displayName": "Navaneeth S",
      "photoUrl": "https://lh3.googleusercontent.com/a-/AOh14Gg0kzDSTdLrtsCqeOogEEB85ABblSk_zThl4BDoNw=s64",
      "userId": "14719481567960968759"
     },
     "user_tz": -330
    },
    "id": "O1vs2yRu8wjj",
    "outputId": "67d6c39b-90d2-42b5-bb9c-a559b263a7b4"
   },
   "outputs": [
    {
     "data": {
      "text/plain": [
       "(52500, 784)"
      ]
     },
     "execution_count": 4,
     "metadata": {},
     "output_type": "execute_result"
    }
   ],
   "source": [
    "x_train.shape"
   ]
  },
  {
   "cell_type": "code",
   "execution_count": null,
   "metadata": {
    "colab": {
     "base_uri": "https://localhost:8080/"
    },
    "executionInfo": {
     "elapsed": 3,
     "status": "ok",
     "timestamp": 1640240472142,
     "user": {
      "displayName": "Navaneeth S",
      "photoUrl": "https://lh3.googleusercontent.com/a-/AOh14Gg0kzDSTdLrtsCqeOogEEB85ABblSk_zThl4BDoNw=s64",
      "userId": "14719481567960968759"
     },
     "user_tz": -330
    },
    "id": "KQIN0Nvt8ykS",
    "outputId": "05b44c96-035c-4548-868a-da28c24c1b16"
   },
   "outputs": [
    {
     "data": {
      "text/plain": [
       "(17500,)"
      ]
     },
     "execution_count": 5,
     "metadata": {},
     "output_type": "execute_result"
    }
   ],
   "source": [
    "y_test.shape"
   ]
  },
  {
   "cell_type": "code",
   "execution_count": null,
   "metadata": {
    "colab": {
     "base_uri": "https://localhost:8080/"
    },
    "executionInfo": {
     "elapsed": 384,
     "status": "ok",
     "timestamp": 1640240475208,
     "user": {
      "displayName": "Navaneeth S",
      "photoUrl": "https://lh3.googleusercontent.com/a-/AOh14Gg0kzDSTdLrtsCqeOogEEB85ABblSk_zThl4BDoNw=s64",
      "userId": "14719481567960968759"
     },
     "user_tz": -330
    },
    "id": "1tt6iVUh81qi",
    "outputId": "36b3661f-8670-4e3b-822b-fc906ec9a860"
   },
   "outputs": [
    {
     "data": {
      "text/plain": [
       "(70000, 784)"
      ]
     },
     "execution_count": 6,
     "metadata": {},
     "output_type": "execute_result"
    }
   ],
   "source": [
    "x.shape"
   ]
  },
  {
   "cell_type": "markdown",
   "metadata": {
    "id": "PhDRjp3W838b"
   },
   "source": [
    "# **Apply PCA**"
   ]
  },
  {
   "cell_type": "code",
   "execution_count": null,
   "metadata": {
    "id": "FpRC1oPc82aS"
   },
   "outputs": [],
   "source": [
    "# PCA -transforming to a 2\n",
    "from sklearn.decomposition import PCA\n",
    "pca = PCA(n_components = 2)\n",
    "x_train_trf = pca.fit_transform(x_train)\n",
    "x_test_trf = pca.transform(x_test)"
   ]
  },
  {
   "cell_type": "code",
   "execution_count": null,
   "metadata": {
    "colab": {
     "base_uri": "https://localhost:8080/"
    },
    "executionInfo": {
     "elapsed": 344,
     "status": "ok",
     "timestamp": 1640242301837,
     "user": {
      "displayName": "Navaneeth S",
      "photoUrl": "https://lh3.googleusercontent.com/a-/AOh14Gg0kzDSTdLrtsCqeOogEEB85ABblSk_zThl4BDoNw=s64",
      "userId": "14719481567960968759"
     },
     "user_tz": -330
    },
    "id": "AIAo4AnK9Vzr",
    "outputId": "aac89ff7-e1bc-4132-e7e4-fa92e531fd4a"
   },
   "outputs": [
    {
     "data": {
      "text/plain": [
       "(52500, 2)"
      ]
     },
     "execution_count": 22,
     "metadata": {},
     "output_type": "execute_result"
    }
   ],
   "source": [
    "x_train_trf.shape"
   ]
  },
  {
   "cell_type": "code",
   "execution_count": null,
   "metadata": {
    "colab": {
     "base_uri": "https://localhost:8080/"
    },
    "executionInfo": {
     "elapsed": 5,
     "status": "ok",
     "timestamp": 1640240636492,
     "user": {
      "displayName": "Navaneeth S",
      "photoUrl": "https://lh3.googleusercontent.com/a-/AOh14Gg0kzDSTdLrtsCqeOogEEB85ABblSk_zThl4BDoNw=s64",
      "userId": "14719481567960968759"
     },
     "user_tz": -330
    },
    "id": "hfRczvqU9aJD",
    "outputId": "8cf0fba6-fe6d-4a51-c871-dad59c28a8e7"
   },
   "outputs": [
    {
     "data": {
      "text/plain": [
       "array([334704.76345897, 244783.03276328])"
      ]
     },
     "execution_count": 9,
     "metadata": {},
     "output_type": "execute_result"
    }
   ],
   "source": [
    "pca.explained_variance_\n",
    "# Eigen values"
   ]
  },
  {
   "cell_type": "code",
   "execution_count": null,
   "metadata": {
    "colab": {
     "base_uri": "https://localhost:8080/"
    },
    "executionInfo": {
     "elapsed": 386,
     "status": "ok",
     "timestamp": 1640240648580,
     "user": {
      "displayName": "Navaneeth S",
      "photoUrl": "https://lh3.googleusercontent.com/a-/AOh14Gg0kzDSTdLrtsCqeOogEEB85ABblSk_zThl4BDoNw=s64",
      "userId": "14719481567960968759"
     },
     "user_tz": -330
    },
    "id": "lz6BP0nA9d0z",
    "outputId": "8ca9693d-7dc0-403b-9ea1-11a64371bb93"
   },
   "outputs": [
    {
     "data": {
      "text/plain": [
       "(2, 784)"
      ]
     },
     "execution_count": 10,
     "metadata": {},
     "output_type": "execute_result"
    }
   ],
   "source": [
    "pca.components_.shape\n",
    "# Eigen vectors"
   ]
  },
  {
   "cell_type": "code",
   "execution_count": null,
   "metadata": {
    "colab": {
     "base_uri": "https://localhost:8080/"
    },
    "executionInfo": {
     "elapsed": 349,
     "status": "ok",
     "timestamp": 1640240704217,
     "user": {
      "displayName": "Navaneeth S",
      "photoUrl": "https://lh3.googleusercontent.com/a-/AOh14Gg0kzDSTdLrtsCqeOogEEB85ABblSk_zThl4BDoNw=s64",
      "userId": "14719481567960968759"
     },
     "user_tz": -330
    },
    "id": "ZEieFIRW9gxy",
    "outputId": "26ef72dc-3635-4796-e0b4-e879c2b5bf87"
   },
   "outputs": [
    {
     "data": {
      "text/plain": [
       "0.16894428770560294"
      ]
     },
     "execution_count": 11,
     "metadata": {},
     "output_type": "execute_result"
    }
   ],
   "source": [
    "# np.cumsum(pca.explained_variance_ratio_)\n",
    "pca.explained_variance_ratio_.sum()"
   ]
  },
  {
   "cell_type": "code",
   "execution_count": null,
   "metadata": {
    "colab": {
     "base_uri": "https://localhost:8080/",
     "height": 284
    },
    "executionInfo": {
     "elapsed": 826,
     "status": "ok",
     "timestamp": 1640240723937,
     "user": {
      "displayName": "Navaneeth S",
      "photoUrl": "https://lh3.googleusercontent.com/a-/AOh14Gg0kzDSTdLrtsCqeOogEEB85ABblSk_zThl4BDoNw=s64",
      "userId": "14719481567960968759"
     },
     "user_tz": -330
    },
    "id": "vSLiQ7hQ9uWj",
    "outputId": "fed11c43-0718-4993-fe1b-0892de14ae99"
   },
   "outputs": [
    {
     "data": {
      "text/plain": [
       "[<matplotlib.lines.Line2D at 0x7f4375eb2d10>]"
      ]
     },
     "execution_count": 12,
     "metadata": {},
     "output_type": "execute_result"
    },
    {
     "data": {
      "image/png": "[encoded data removed]",
      "text/plain": [
       "<Figure size 432x288 with 1 Axes>"
      ]
     },
     "metadata": {
      "needs_background": "light"
     },
     "output_type": "display_data"
    }
   ],
   "source": [
    "plt.plot(np.cumsum(pca.explained_variance_ratio_))"
   ]
  },
  {
   "cell_type": "code",
   "execution_count": null,
   "metadata": {
    "id": "pljvFbGq9zAT"
   },
   "outputs": [],
   "source": [
    "from sklearn.decomposition import PCA\n",
    "\n",
    "pca1 = PCA(0.95)\n",
    "X2D = pca1.fit_transform(x)"
   ]
  },
  {
   "cell_type": "code",
   "execution_count": null,
   "metadata": {
    "colab": {
     "base_uri": "https://localhost:8080/"
    },
    "executionInfo": {
     "elapsed": 5,
     "status": "ok",
     "timestamp": 1640240790076,
     "user": {
      "displayName": "Navaneeth S",
      "photoUrl": "https://lh3.googleusercontent.com/a-/AOh14Gg0kzDSTdLrtsCqeOogEEB85ABblSk_zThl4BDoNw=s64",
      "userId": "14719481567960968759"
     },
     "user_tz": -330
    },
    "id": "bwKxwRe_98fD",
    "outputId": "198815c1-96a1-456b-eb95-a5ebb253722d"
   },
   "outputs": [
    {
     "data": {
      "text/plain": [
       "154"
      ]
     },
     "execution_count": 15,
     "metadata": {},
     "output_type": "execute_result"
    }
   ],
   "source": [
    "pca1.n_components_"
   ]
  },
  {
   "cell_type": "code",
   "execution_count": null,
   "metadata": {
    "colab": {
     "base_uri": "https://localhost:8080/"
    },
    "executionInfo": {
     "elapsed": 344,
     "status": "ok",
     "timestamp": 1640240824824,
     "user": {
      "displayName": "Navaneeth S",
      "photoUrl": "https://lh3.googleusercontent.com/a-/AOh14Gg0kzDSTdLrtsCqeOogEEB85ABblSk_zThl4BDoNw=s64",
      "userId": "14719481567960968759"
     },
     "user_tz": -330
    },
    "id": "pb5ABN7q-DQz",
    "outputId": "10b523ef-f5a2-4f99-b66a-cadafc160127"
   },
   "outputs": [
    {
     "data": {
      "text/plain": [
       "0.9503499702078614"
      ]
     },
     "execution_count": 16,
     "metadata": {},
     "output_type": "execute_result"
    }
   ],
   "source": [
    "# np.cumsum(pca.explained_variance_ratio_)\n",
    "pca1.explained_variance_ratio_.sum()"
   ]
  },
  {
   "cell_type": "code",
   "execution_count": null,
   "metadata": {
    "colab": {
     "base_uri": "https://localhost:8080/"
    },
    "executionInfo": {
     "elapsed": 369,
     "status": "ok",
     "timestamp": 1640240847076,
     "user": {
      "displayName": "Navaneeth S",
      "photoUrl": "https://lh3.googleusercontent.com/a-/AOh14Gg0kzDSTdLrtsCqeOogEEB85ABblSk_zThl4BDoNw=s64",
      "userId": "14719481567960968759"
     },
     "user_tz": -330
    },
    "id": "vtOym-18-LtT",
    "outputId": "9a31ca9a-dba7-477e-ba8b-5b2cc015e10b"
   },
   "outputs": [
    {
     "data": {
      "text/plain": [
       "(154, 784)"
      ]
     },
     "execution_count": 17,
     "metadata": {},
     "output_type": "execute_result"
    }
   ],
   "source": [
    "pca1.components_.shape\n",
    "# Eigen vectors"
   ]
  },
  {
   "cell_type": "code",
   "execution_count": null,
   "metadata": {
    "colab": {
     "base_uri": "https://localhost:8080/"
    },
    "executionInfo": {
     "elapsed": 369,
     "status": "ok",
     "timestamp": 1640240865359,
     "user": {
      "displayName": "Navaneeth S",
      "photoUrl": "https://lh3.googleusercontent.com/a-/AOh14Gg0kzDSTdLrtsCqeOogEEB85ABblSk_zThl4BDoNw=s64",
      "userId": "14719481567960968759"
     },
     "user_tz": -330
    },
    "id": "kDBM5mRE-RGj",
    "outputId": "7a19eacc-b246-4600-8df4-942be42ce1be"
   },
   "outputs": [
    {
     "data": {
      "text/plain": [
       "array([334294.06141858, 245433.42714427, 210930.35458571, 185337.3563191 ,\n",
       "       167691.57240407, 147670.29662309, 112445.13893067,  99115.38328577,\n",
       "        94612.53876189,  80335.95693768,  72259.91131116,  69888.55401389,\n",
       "        58552.70586367,  58105.2757568 ,  54310.38213844,  50981.9785895 ,\n",
       "        45254.30567604,  43870.48880605,  40723.72476346,  39545.99920588,\n",
       "        36565.41457692,  34636.18258277,  32899.11209852,  31200.69647811,\n",
       "        30296.9449957 ,  28771.66123482,  27777.4204322 ,  26950.30813599,\n",
       "        25391.16806522,  23667.64747479,  22505.89276121,  22139.78233326,\n",
       "        20608.24294431,  20086.62021524,  19439.77996863,  18641.17105068,\n",
       "        17311.91383404,  16706.9383288 ,  16428.27352292,  16038.57182531,\n",
       "        15584.95051226,  15260.79209582,  14344.92737514,  13588.51490256,\n",
       "        13161.26567149,  12889.506883  ,  12397.00628599,  11971.62560722,\n",
       "        11618.57340054,  10965.65354331,  10868.16745452,  10638.04320538,\n",
       "        10169.34560933,   9847.64698821,   9690.28943076,   9241.26224106,\n",
       "         9205.91899638,   8798.33041867,   8683.71672269,   8391.48477493,\n",
       "         8221.84293899,   8183.3842825 ,   7862.77132984,   7578.60211914,\n",
       "         7308.02423055,   7076.7374215 ,   6955.44873391,   6689.75036732,\n",
       "         6567.4875191 ,   6467.29222411,   6413.32540144,   6177.61811548,\n",
       "         6063.83716167,   5946.24235615,   5654.37175527,   5599.06867864,\n",
       "         5536.33412799,   5292.66518906,   5042.83589736,   4877.47552457,\n",
       "         4836.88820401,   4807.04877964,   4788.47977829,   4631.37203755,\n",
       "         4540.37269194,   4523.95896112,   4431.50252167,   4293.42976944,\n",
       "         4202.79046447,   4130.40868963,   3991.27560551,   3921.16586757,\n",
       "         3860.38561048,   3768.28248631,   3716.19598687,   3676.13976715,\n",
       "         3556.66500849,   3547.27423742,   3450.28333104,   3427.70866842,\n",
       "         3350.22735192,   3229.75319178,   3209.91369887,   3127.02818908,\n",
       "         3089.56044088,   3051.00651591,   2955.24701988,   2924.26089942,\n",
       "         2884.65087691,   2803.10513037,   2696.08021516,   2666.85601261,\n",
       "         2661.04852227,   2623.23811447,   2608.77716696,   2568.35171822,\n",
       "         2504.74368005,   2488.01427725,   2455.33725664,   2412.69585847,\n",
       "         2372.70453709,   2356.15126226,   2330.28513891,   2304.09856726,\n",
       "         2268.17316174,   2204.37383724,   2170.42781262,   2155.44285819,\n",
       "         2125.33009018,   2062.82819551,   2058.91647846,   2036.73042765,\n",
       "         2010.95034329,   2001.24661112,   1985.65299092,   1964.53661342,\n",
       "         1932.39914443,   1894.39020228,   1837.0333952 ,   1803.24901232,\n",
       "         1793.0078987 ,   1748.98223303,   1722.88405127,   1708.63537085,\n",
       "         1700.77405528,   1688.75104133,   1659.38403225,   1649.49842544,\n",
       "         1617.49141444,   1600.8393164 ,   1592.31962189,   1584.64343729,\n",
       "         1571.92639573,   1541.80622749])"
      ]
     },
     "execution_count": 18,
     "metadata": {},
     "output_type": "execute_result"
    }
   ],
   "source": [
    "pca1.explained_variance_"
   ]
  },
  {
   "cell_type": "code",
   "execution_count": null,
   "metadata": {
    "colab": {
     "base_uri": "https://localhost:8080/"
    },
    "executionInfo": {
     "elapsed": 354,
     "status": "ok",
     "timestamp": 1640240882819,
     "user": {
      "displayName": "Navaneeth S",
      "photoUrl": "https://lh3.googleusercontent.com/a-/AOh14Gg0kzDSTdLrtsCqeOogEEB85ABblSk_zThl4BDoNw=s64",
      "userId": "14719481567960968759"
     },
     "user_tz": -330
    },
    "id": "Oy7ijA1y-VsT",
    "outputId": "aa2d802a-3379-4fe6-ac90-682c0305d7fb"
   },
   "outputs": [
    {
     "data": {
      "text/plain": [
       "array([0.09746116, 0.07155445, 0.06149531, 0.05403385, 0.04888934,\n",
       "       0.04305227, 0.03278262, 0.02889642, 0.02758364, 0.0234214 ,\n",
       "       0.02106689, 0.02037553, 0.01707064, 0.0169402 , 0.01583382,\n",
       "       0.01486345, 0.01319358, 0.01279014, 0.01187272, 0.01152937,\n",
       "       0.0106604 , 0.01009794, 0.00959151, 0.00909635, 0.00883287,\n",
       "       0.00838818, 0.00809832, 0.00785718, 0.00740262, 0.00690014,\n",
       "       0.00656144, 0.0064547 , 0.00600819, 0.00585612, 0.00566754,\n",
       "       0.00543471, 0.00504717, 0.00487079, 0.00478955, 0.00467594,\n",
       "       0.00454369, 0.00444918, 0.00418217, 0.00396164, 0.00383708,\n",
       "       0.00375785, 0.00361426, 0.00349025, 0.00338732, 0.00319696,\n",
       "       0.00316854, 0.00310145, 0.0029648 , 0.00287101, 0.00282514,\n",
       "       0.00269423, 0.00268392, 0.00256509, 0.00253168, 0.00244648,\n",
       "       0.00239702, 0.00238581, 0.00229234, 0.00220949, 0.0021306 ,\n",
       "       0.00206317, 0.00202781, 0.00195035, 0.00191471, 0.0018855 ,\n",
       "       0.00186976, 0.00180104, 0.00176787, 0.00173359, 0.00164849,\n",
       "       0.00163237, 0.00161408, 0.00154304, 0.0014702 , 0.00142199,\n",
       "       0.00141016, 0.00140146, 0.00139605, 0.00135025, 0.00132371,\n",
       "       0.00131893, 0.00129197, 0.00125172, 0.00122529, 0.00120419,\n",
       "       0.00116363, 0.00114319, 0.00112547, 0.00109862, 0.00108343,\n",
       "       0.00107175, 0.00103692, 0.00103418, 0.00100591, 0.00099933,\n",
       "       0.00097674, 0.00094161, 0.00093583, 0.00091166, 0.00090074,\n",
       "       0.0008895 , 0.00086158, 0.00085255, 0.000841  , 0.00081723,\n",
       "       0.00078602, 0.0007775 , 0.00077581, 0.00076479, 0.00076057,\n",
       "       0.00074879, 0.00073024, 0.00072536, 0.00071584, 0.00070341,\n",
       "       0.00069175, 0.00068692, 0.00067938, 0.00067174, 0.00066127,\n",
       "       0.00064267, 0.00063277, 0.0006284 , 0.00061963, 0.0006014 ,\n",
       "       0.00060026, 0.00059379, 0.00058628, 0.00058345, 0.0005789 ,\n",
       "       0.00057275, 0.00056338, 0.0005523 , 0.00053557, 0.00052572,\n",
       "       0.00052274, 0.0005099 , 0.0005023 , 0.00049814, 0.00049585,\n",
       "       0.00049234, 0.00048378, 0.0004809 , 0.00047157, 0.00046671,\n",
       "       0.00046423, 0.00046199, 0.00045828, 0.0004495 ])"
      ]
     },
     "execution_count": 19,
     "metadata": {},
     "output_type": "execute_result"
    }
   ],
   "source": [
    "pca1.explained_variance_ratio_"
   ]
  },
  {
   "cell_type": "code",
   "execution_count": null,
   "metadata": {
    "id": "DKBUgDGx-Z9z"
   },
   "outputs": [],
   "source": []
  }
 ],
 "metadata": {
  "colab": {
   "authorship_tag": "ABX9TyMFn4k+WI2PdiyT/1j2FuyF",
   "collapsed_sections": [],
   "name": "7_PCA.ipynb",
   "provenance": []
  },
  "kernelspec": {
   "display_name": "Python 3 (ipykernel)",
   "language": "python",
   "name": "python3"
  },
  "language_info": {
   "codemirror_mode": {
    "name": "ipython",
    "version": 3
   },
   "file_extension": ".py",
   "mimetype": "text/x-python",
   "name": "python",
   "nbconvert_exporter": "python",
   "pygments_lexer": "ipython3",
   "version": "3.9.6"
  }
 },
 "nbformat": 4,
 "nbformat_minor": 1
}
