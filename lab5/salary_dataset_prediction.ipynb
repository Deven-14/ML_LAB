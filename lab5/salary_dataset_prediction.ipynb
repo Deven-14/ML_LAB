{
 "cells": [
  {
   "cell_type": "markdown",
   "id": "7bd111ea",
   "metadata": {},
   "source": [
    "## Importing the libraries"
   ]
  },
  {
   "cell_type": "code",
   "execution_count": 1,
   "id": "03bfec2c",
   "metadata": {},
   "outputs": [],
   "source": [
    "import numpy as np\n",
    "import matplotlib.pyplot as plt\n",
    "import pandas as pd"
   ]
  },
  {
   "cell_type": "markdown",
   "id": "3b74139f",
   "metadata": {},
   "source": [
    "## Load the dataset"
   ]
  },
  {
   "cell_type": "code",
   "execution_count": 2,
   "id": "03ad184a",
   "metadata": {},
   "outputs": [],
   "source": [
    "dataset = pd.read_csv('Salary_Data.csv')\n",
    "X = dataset.iloc[:, :-1].values\n",
    "y = dataset.iloc[:, -1].values"
   ]
  },
  {
   "cell_type": "code",
   "execution_count": 3,
   "id": "9f6e4fdb",
   "metadata": {},
   "outputs": [
    {
     "data": {
      "text/plain": [
       "(30, 1)"
      ]
     },
     "execution_count": 3,
     "metadata": {},
     "output_type": "execute_result"
    }
   ],
   "source": [
    "X.shape"
   ]
  },
  {
   "cell_type": "markdown",
   "id": "76530c30",
   "metadata": {},
   "source": [
    "## splitting the dataset into the teraining set and test set"
   ]
  },
  {
   "cell_type": "code",
   "execution_count": 8,
   "id": "5af5bac7",
   "metadata": {},
   "outputs": [],
   "source": [
    "from sklearn.model_selection import train_test_split\n",
    "X_train, X_test, y_train, y_test = train_test_split(X, y, test_size=1/3)"
   ]
  },
  {
   "cell_type": "code",
   "execution_count": 5,
   "id": "93d34e51",
   "metadata": {},
   "outputs": [
    {
     "data": {
      "text/plain": [
       "(20, 1)"
      ]
     },
     "execution_count": 5,
     "metadata": {},
     "output_type": "execute_result"
    }
   ],
   "source": [
    "X_train.shape"
   ]
  },
  {
   "cell_type": "code",
   "execution_count": 6,
   "id": "19b74474",
   "metadata": {},
   "outputs": [
    {
     "data": {
      "text/plain": [
       "(10, 1)"
      ]
     },
     "execution_count": 6,
     "metadata": {},
     "output_type": "execute_result"
    }
   ],
   "source": [
    "X_test.shape"
   ]
  },
  {
   "cell_type": "markdown",
   "id": "12f09d3a",
   "metadata": {},
   "source": [
    "## Training the simple linear regression model on the training set "
   ]
  },
  {
   "cell_type": "code",
   "execution_count": 9,
   "id": "fb2e5e22",
   "metadata": {},
   "outputs": [
    {
     "data": {
      "text/plain": [
       "LinearRegression()"
      ]
     },
     "execution_count": 9,
     "metadata": {},
     "output_type": "execute_result"
    }
   ],
   "source": [
    "from sklearn.linear_model import LinearRegression\n",
    "regressor = LinearRegression()\n",
    "regressor.fit(X_train, y_train)"
   ]
  },
  {
   "cell_type": "markdown",
   "id": "d44fc0e2",
   "metadata": {},
   "source": [
    "## Predicting the test set results"
   ]
  },
  {
   "cell_type": "code",
   "execution_count": 10,
   "id": "acf7505f",
   "metadata": {},
   "outputs": [
    {
     "data": {
      "text/plain": [
       "array([61058.82022717])"
      ]
     },
     "execution_count": 10,
     "metadata": {},
     "output_type": "execute_result"
    }
   ],
   "source": [
    "regressor.predict([[3.7]])"
   ]
  },
  {
   "cell_type": "code",
   "execution_count": 11,
   "id": "8be6dc45",
   "metadata": {},
   "outputs": [
    {
     "data": {
      "text/plain": [
       "array([ 53374.54136938, 109085.56308835,  39927.05336825,  61058.82022717,\n",
       "        64900.95965607,  74506.3082283 ,  38005.98365381,  82190.58708609,\n",
       "       117730.37680336, 101401.28423056])"
      ]
     },
     "execution_count": 11,
     "metadata": {},
     "output_type": "execute_result"
    }
   ],
   "source": [
    "y_pred = regressor.predict(X_test)\n",
    "y_pred"
   ]
  },
  {
   "cell_type": "markdown",
   "id": "792892a3",
   "metadata": {},
   "source": [
    "## Getting the actual, predicted and error values"
   ]
  },
  {
   "cell_type": "code",
   "execution_count": 12,
   "id": "af615bad",
   "metadata": {},
   "outputs": [
    {
     "data": {
      "text/plain": [
       "(array([ 56642., 109431.,  37731.,  57189.,  57081.,  66029.,  46205.,\n",
       "         81363., 112635., 101302.]),\n",
       " array([ 53374.54136938, 109085.56308835,  39927.05336825,  61058.82022717,\n",
       "         64900.95965607,  74506.3082283 ,  38005.98365381,  82190.58708609,\n",
       "        117730.37680336, 101401.28423056]),\n",
       " array([ 3267.45863062,   345.43691165, -2196.05336825, -3869.82022717,\n",
       "        -7819.95965607, -8477.3082283 ,  8199.01634619,  -827.58708609,\n",
       "        -5095.37680336,   -99.28423056]))"
      ]
     },
     "execution_count": 12,
     "metadata": {},
     "output_type": "execute_result"
    }
   ],
   "source": [
    "y_test, y_pred, y_test-y_pred"
   ]
  },
  {
   "cell_type": "code",
   "execution_count": 18,
   "id": "5301b68b",
   "metadata": {},
   "outputs": [],
   "source": [
    "df = pd.DataFrame(data=zip(y_test, y_pred, y_test-y_pred), columns=['actual', 'predicted', 'error'], index=X_test[:, 0])"
   ]
  },
  {
   "cell_type": "code",
   "execution_count": 19,
   "id": "7eab8594",
   "metadata": {},
   "outputs": [
    {
     "data": {
      "text/html": [
       "<div>\n",
       "<style scoped>\n",
       "    .dataframe tbody tr th:only-of-type {\n",
       "        vertical-align: middle;\n",
       "    }\n",
       "\n",
       "    .dataframe tbody tr th {\n",
       "        vertical-align: top;\n",
       "    }\n",
       "\n",
       "    .dataframe thead th {\n",
       "        text-align: right;\n",
       "    }\n",
       "</style>\n",
       "<table border=\"1\" class=\"dataframe\">\n",
       "  <thead>\n",
       "    <tr style=\"text-align: right;\">\n",
       "      <th></th>\n",
       "      <th>actual</th>\n",
       "      <th>predicted</th>\n",
       "      <th>error</th>\n",
       "    </tr>\n",
       "  </thead>\n",
       "  <tbody>\n",
       "    <tr>\n",
       "      <th>2.9</th>\n",
       "      <td>56642.0</td>\n",
       "      <td>53374.541369</td>\n",
       "      <td>3267.458631</td>\n",
       "    </tr>\n",
       "    <tr>\n",
       "      <th>8.7</th>\n",
       "      <td>109431.0</td>\n",
       "      <td>109085.563088</td>\n",
       "      <td>345.436912</td>\n",
       "    </tr>\n",
       "    <tr>\n",
       "      <th>1.5</th>\n",
       "      <td>37731.0</td>\n",
       "      <td>39927.053368</td>\n",
       "      <td>-2196.053368</td>\n",
       "    </tr>\n",
       "    <tr>\n",
       "      <th>3.7</th>\n",
       "      <td>57189.0</td>\n",
       "      <td>61058.820227</td>\n",
       "      <td>-3869.820227</td>\n",
       "    </tr>\n",
       "    <tr>\n",
       "      <th>4.1</th>\n",
       "      <td>57081.0</td>\n",
       "      <td>64900.959656</td>\n",
       "      <td>-7819.959656</td>\n",
       "    </tr>\n",
       "    <tr>\n",
       "      <th>5.1</th>\n",
       "      <td>66029.0</td>\n",
       "      <td>74506.308228</td>\n",
       "      <td>-8477.308228</td>\n",
       "    </tr>\n",
       "    <tr>\n",
       "      <th>1.3</th>\n",
       "      <td>46205.0</td>\n",
       "      <td>38005.983654</td>\n",
       "      <td>8199.016346</td>\n",
       "    </tr>\n",
       "    <tr>\n",
       "      <th>5.9</th>\n",
       "      <td>81363.0</td>\n",
       "      <td>82190.587086</td>\n",
       "      <td>-827.587086</td>\n",
       "    </tr>\n",
       "    <tr>\n",
       "      <th>9.6</th>\n",
       "      <td>112635.0</td>\n",
       "      <td>117730.376803</td>\n",
       "      <td>-5095.376803</td>\n",
       "    </tr>\n",
       "    <tr>\n",
       "      <th>7.9</th>\n",
       "      <td>101302.0</td>\n",
       "      <td>101401.284231</td>\n",
       "      <td>-99.284231</td>\n",
       "    </tr>\n",
       "  </tbody>\n",
       "</table>\n",
       "</div>"
      ],
      "text/plain": [
       "       actual      predicted        error\n",
       "2.9   56642.0   53374.541369  3267.458631\n",
       "8.7  109431.0  109085.563088   345.436912\n",
       "1.5   37731.0   39927.053368 -2196.053368\n",
       "3.7   57189.0   61058.820227 -3869.820227\n",
       "4.1   57081.0   64900.959656 -7819.959656\n",
       "5.1   66029.0   74506.308228 -8477.308228\n",
       "1.3   46205.0   38005.983654  8199.016346\n",
       "5.9   81363.0   82190.587086  -827.587086\n",
       "9.6  112635.0  117730.376803 -5095.376803\n",
       "7.9  101302.0  101401.284231   -99.284231"
      ]
     },
     "execution_count": 19,
     "metadata": {},
     "output_type": "execute_result"
    }
   ],
   "source": [
    "df"
   ]
  },
  {
   "cell_type": "markdown",
   "id": "4fa38dc4",
   "metadata": {},
   "source": [
    "## y = m * x + c "
   ]
  },
  {
   "cell_type": "code",
   "execution_count": 20,
   "id": "bcb91928",
   "metadata": {},
   "outputs": [
    {
     "data": {
      "text/plain": [
       "array([9605.34857224])"
      ]
     },
     "execution_count": 20,
     "metadata": {},
     "output_type": "execute_result"
    }
   ],
   "source": [
    "m = regressor.coef_\n",
    "m"
   ]
  },
  {
   "cell_type": "code",
   "execution_count": 22,
   "id": "08381da5",
   "metadata": {},
   "outputs": [
    {
     "data": {
      "text/plain": [
       "25519.030509899843"
      ]
     },
     "execution_count": 22,
     "metadata": {},
     "output_type": "execute_result"
    }
   ],
   "source": [
    "c = regressor.intercept_\n",
    "c"
   ]
  },
  {
   "cell_type": "code",
   "execution_count": 32,
   "id": "e43f0785",
   "metadata": {},
   "outputs": [
    {
     "data": {
      "text/plain": [
       "array([61058.82022717])"
      ]
     },
     "execution_count": 32,
     "metadata": {},
     "output_type": "execute_result"
    }
   ],
   "source": [
    "y = m * 3.7 + c # 3.7 coz we are predicting on that values and we are seeing that this formual gives same answer\n",
    "y"
   ]
  },
  {
   "cell_type": "markdown",
   "id": "1f43c206",
   "metadata": {},
   "source": [
    "## Performance Measures "
   ]
  },
  {
   "cell_type": "code",
   "execution_count": 24,
   "id": "5a492222",
   "metadata": {},
   "outputs": [],
   "source": [
    "from sklearn.metrics import mean_absolute_error, mean_squared_error, r2_score"
   ]
  },
  {
   "cell_type": "code",
   "execution_count": 25,
   "id": "ada28fe7",
   "metadata": {},
   "outputs": [
    {
     "name": "stdout",
     "output_type": "stream",
     "text": [
      "MAE 4019.7301488264334\n"
     ]
    }
   ],
   "source": [
    "print(\"MAE\", mean_absolute_error(y_test, y_pred))"
   ]
  },
  {
   "cell_type": "code",
   "execution_count": 26,
   "id": "92bb65a3",
   "metadata": {},
   "outputs": [
    {
     "name": "stdout",
     "output_type": "stream",
     "text": [
      "MSE 25749178.69265653\n"
     ]
    }
   ],
   "source": [
    "print(\"MSE\", mean_squared_error(y_test, y_pred))"
   ]
  },
  {
   "cell_type": "code",
   "execution_count": 27,
   "id": "85d9e486",
   "metadata": {},
   "outputs": [
    {
     "name": "stdout",
     "output_type": "stream",
     "text": [
      "RMSE 5074.364856083619\n"
     ]
    }
   ],
   "source": [
    "print(\"RMSE\", np.sqrt(mean_squared_error(y_test, y_pred)))"
   ]
  },
  {
   "cell_type": "code",
   "execution_count": 29,
   "id": "2b2450a1",
   "metadata": {},
   "outputs": [
    {
     "name": "stdout",
     "output_type": "stream",
     "text": [
      "R2_Score 0.9606799965862776\n"
     ]
    }
   ],
   "source": [
    "print(\"R2_Score\", r2_score(y_test, y_pred))\n",
    "r2 = r2_score(y_test, y_pred)"
   ]
  },
  {
   "cell_type": "code",
   "execution_count": 31,
   "id": "6ad6edab",
   "metadata": {},
   "outputs": [
    {
     "data": {
      "text/plain": [
       "0.9592757107500732"
      ]
     },
     "execution_count": 31,
     "metadata": {},
     "output_type": "execute_result"
    }
   ],
   "source": [
    "# Adjusted R2 Score\n",
    "1 - ((1 - r2) * (30 - 1) / (30 - 1 - 1))"
   ]
  },
  {
   "cell_type": "code",
   "execution_count": 33,
   "id": "720938ba",
   "metadata": {},
   "outputs": [],
   "source": [
    "# https://www.geeksforgeeks.org/python-coefficient-of-determination-r2-score/\n",
    "# Coefficient of determination also called as R2 score is used to evaluate the performance of a linear regression model. \n",
    "# It is the amount of the variation in the output dependent attribute which is predictable from the input independent \n",
    "# variable(s). It is used to check how well-observed results are reproduced by the model, depending on the ratio of total \n",
    "# deviation of results described by the model."
   ]
  },
  {
   "cell_type": "code",
   "execution_count": 34,
   "id": "410027a6",
   "metadata": {},
   "outputs": [],
   "source": [
    "# https://www.geeksforgeeks.org/ml-adjusted-r-square-in-regression-analysis/\n",
    "# R-square test is used to determine the goodness of fit in regression analysis. Goodness of fit implies how better regression \n",
    "# model is fitted to the data points. More is the value of r-square near to 1, better is the model. But the problem lies in the\n",
    "# fact that the value of r-square always increases as new variables(attributes) are added to the model, no matter that the newly\n",
    "# added attributes have a positive impact on the model or not. also, it can lead to overfitting of the model if there are large\n",
    "# no. of variables.\n",
    "# Adjusted r-square is a modified form of r-square whose value increases if new predictors tend to improve model’s performance \n",
    "# and decreases if new predictors do not improve performance as expected."
   ]
  },
  {
   "cell_type": "code",
   "execution_count": null,
   "id": "bb350568",
   "metadata": {},
   "outputs": [],
   "source": []
  }
 ],
 "metadata": {
  "kernelspec": {
   "display_name": "Python 3 (ipykernel)",
   "language": "python",
   "name": "python3"
  },
  "language_info": {
   "codemirror_mode": {
    "name": "ipython",
    "version": 3
   },
   "file_extension": ".py",
   "mimetype": "text/x-python",
   "name": "python",
   "nbconvert_exporter": "python",
   "pygments_lexer": "ipython3",
   "version": "3.9.6"
  }
 },
 "nbformat": 4,
 "nbformat_minor": 5
}
