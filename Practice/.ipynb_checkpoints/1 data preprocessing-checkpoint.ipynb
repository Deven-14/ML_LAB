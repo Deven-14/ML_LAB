{
 "cells": [
  {
   "cell_type": "markdown",
   "id": "f15408b2",
   "metadata": {},
   "source": [
    "## Importing the libraries"
   ]
  },
  {
   "cell_type": "code",
   "execution_count": 1,
   "id": "28be1af4",
   "metadata": {},
   "outputs": [],
   "source": [
    "import numpy as np\n",
    "import pandas as pd"
   ]
  },
  {
   "cell_type": "markdown",
   "id": "820de311",
   "metadata": {},
   "source": [
    "## Loading the dataset"
   ]
  },
  {
   "cell_type": "code",
   "execution_count": 4,
   "id": "5fb2e61d",
   "metadata": {},
   "outputs": [
    {
     "data": {
      "text/html": [
       "<div>\n",
       "<style scoped>\n",
       "    .dataframe tbody tr th:only-of-type {\n",
       "        vertical-align: middle;\n",
       "    }\n",
       "\n",
       "    .dataframe tbody tr th {\n",
       "        vertical-align: top;\n",
       "    }\n",
       "\n",
       "    .dataframe thead th {\n",
       "        text-align: right;\n",
       "    }\n",
       "</style>\n",
       "<table border=\"1\" class=\"dataframe\">\n",
       "  <thead>\n",
       "    <tr style=\"text-align: right;\">\n",
       "      <th></th>\n",
       "      <th>Country</th>\n",
       "      <th>Age</th>\n",
       "      <th>Salary</th>\n",
       "      <th>Purchased</th>\n",
       "    </tr>\n",
       "  </thead>\n",
       "  <tbody>\n",
       "    <tr>\n",
       "      <th>0</th>\n",
       "      <td>France</td>\n",
       "      <td>44.0</td>\n",
       "      <td>72000.0</td>\n",
       "      <td>No</td>\n",
       "    </tr>\n",
       "    <tr>\n",
       "      <th>1</th>\n",
       "      <td>Spain</td>\n",
       "      <td>27.0</td>\n",
       "      <td>48000.0</td>\n",
       "      <td>Yes</td>\n",
       "    </tr>\n",
       "    <tr>\n",
       "      <th>2</th>\n",
       "      <td>Germany</td>\n",
       "      <td>30.0</td>\n",
       "      <td>54000.0</td>\n",
       "      <td>No</td>\n",
       "    </tr>\n",
       "    <tr>\n",
       "      <th>3</th>\n",
       "      <td>Spain</td>\n",
       "      <td>38.0</td>\n",
       "      <td>61000.0</td>\n",
       "      <td>No</td>\n",
       "    </tr>\n",
       "    <tr>\n",
       "      <th>4</th>\n",
       "      <td>Germany</td>\n",
       "      <td>40.0</td>\n",
       "      <td>NaN</td>\n",
       "      <td>Yes</td>\n",
       "    </tr>\n",
       "    <tr>\n",
       "      <th>5</th>\n",
       "      <td>France</td>\n",
       "      <td>35.0</td>\n",
       "      <td>58000.0</td>\n",
       "      <td>Yes</td>\n",
       "    </tr>\n",
       "    <tr>\n",
       "      <th>6</th>\n",
       "      <td>Spain</td>\n",
       "      <td>NaN</td>\n",
       "      <td>52000.0</td>\n",
       "      <td>No</td>\n",
       "    </tr>\n",
       "    <tr>\n",
       "      <th>7</th>\n",
       "      <td>France</td>\n",
       "      <td>48.0</td>\n",
       "      <td>79000.0</td>\n",
       "      <td>Yes</td>\n",
       "    </tr>\n",
       "    <tr>\n",
       "      <th>8</th>\n",
       "      <td>Germany</td>\n",
       "      <td>50.0</td>\n",
       "      <td>83000.0</td>\n",
       "      <td>No</td>\n",
       "    </tr>\n",
       "    <tr>\n",
       "      <th>9</th>\n",
       "      <td>France</td>\n",
       "      <td>37.0</td>\n",
       "      <td>67000.0</td>\n",
       "      <td>Yes</td>\n",
       "    </tr>\n",
       "  </tbody>\n",
       "</table>\n",
       "</div>"
      ],
      "text/plain": [
       "   Country   Age   Salary Purchased\n",
       "0   France  44.0  72000.0        No\n",
       "1    Spain  27.0  48000.0       Yes\n",
       "2  Germany  30.0  54000.0        No\n",
       "3    Spain  38.0  61000.0        No\n",
       "4  Germany  40.0      NaN       Yes\n",
       "5   France  35.0  58000.0       Yes\n",
       "6    Spain   NaN  52000.0        No\n",
       "7   France  48.0  79000.0       Yes\n",
       "8  Germany  50.0  83000.0        No\n",
       "9   France  37.0  67000.0       Yes"
      ]
     },
     "execution_count": 4,
     "metadata": {},
     "output_type": "execute_result"
    }
   ],
   "source": [
    "df = pd.read_csv(\"../1 lab1 data preprocessing/Data.csv\")\n",
    "df"
   ]
  },
  {
   "cell_type": "code",
   "execution_count": 7,
   "id": "5bb098bf",
   "metadata": {},
   "outputs": [
    {
     "name": "stdout",
     "output_type": "stream",
     "text": [
      "[['France' 44.0 72000.0]\n",
      " ['Spain' 27.0 48000.0]\n",
      " ['Germany' 30.0 54000.0]\n",
      " ['Spain' 38.0 61000.0]\n",
      " ['Germany' 40.0 nan]\n",
      " ['France' 35.0 58000.0]\n",
      " ['Spain' nan 52000.0]\n",
      " ['France' 48.0 79000.0]\n",
      " ['Germany' 50.0 83000.0]\n",
      " ['France' 37.0 67000.0]]\n",
      "['No' 'Yes' 'No' 'No' 'Yes' 'Yes' 'No' 'Yes' 'No' 'Yes']\n"
     ]
    }
   ],
   "source": [
    "x = df.iloc[:, :-1].values\n",
    "y = df.iloc[:, -1].values\n",
    "print(x, y, sep='\\n')"
   ]
  },
  {
   "cell_type": "markdown",
   "id": "0055f60c",
   "metadata": {},
   "source": [
    "## Imputing the missing values"
   ]
  },
  {
   "cell_type": "code",
   "execution_count": 22,
   "id": "2ee35695",
   "metadata": {},
   "outputs": [
    {
     "name": "stdout",
     "output_type": "stream",
     "text": [
      "[[0.0 1.0 0.0 -0.6546536707079771 0.7588743615900191 0.7494732544921673]\n",
      " [1.0 0.0 0.0 1.5275252316519463 -1.7115038793306814 -1.4381784072687536]\n",
      " [1.0 0.0 1.0 -0.6546536707079771 -1.2755547779917342 -0.8912654918285233]\n",
      " [1.0 0.0 0.0 1.5275252316519463 -0.1130238410878752 -0.25320042381492147]\n",
      " [1.0 0.0 1.0 -0.6546536707079771 0.17760889313808956\n",
      "  2.357833340847479e-16]\n",
      " [0.0 1.0 0.0 -0.6546536707079771 -0.5489729424268224 -0.5266568815350365]\n",
      " [1.0 0.0 0.0 1.5275252316519463 1.2212453270876723e-16\n",
      "  -1.0735697969752667]\n",
      " [0.0 1.0 0.0 -0.6546536707079771 1.3401398300419485 1.3875383225057691]\n",
      " [1.0 0.0 1.0 -0.6546536707079771 1.6307725642679132 1.752146932799256]\n",
      " [0.0 1.0 0.0 -0.6546536707079771 -0.2583402082008575 0.2937124916253087]]\n"
     ]
    }
   ],
   "source": [
    "from sklearn.impute import SimpleImputer # impute\n",
    "imputer = SimpleImputer(missing_values=np.nan, strategy='mean')\n",
    "x[:, 1:3] = imputer.fit_transform(x[:, 1:3]) # 3 EXCLUDED** or can do [:, 1:]\n",
    "print(x)"
   ]
  },
  {
   "cell_type": "markdown",
   "id": "42f2abbf",
   "metadata": {},
   "source": [
    "## Encoding the independent variable"
   ]
  },
  {
   "cell_type": "code",
   "execution_count": 19,
   "id": "06302325",
   "metadata": {},
   "outputs": [
    {
     "name": "stdout",
     "output_type": "stream",
     "text": [
      "[[0.0 1.0 0.0 0.0 0.7588743615900191 0.7494732544921673]\n",
      " [1.0 0.0 0.0 1.0 -1.7115038793306814 -1.4381784072687536]\n",
      " [1.0 0.0 1.0 0.0 -1.2755547779917342 -0.8912654918285233]\n",
      " [1.0 0.0 0.0 1.0 -0.11302384108787522 -0.25320042381492147]\n",
      " [1.0 0.0 1.0 0.0 0.17760889313808953 2.357833340847479e-16]\n",
      " [0.0 1.0 0.0 0.0 -0.5489729424268224 -0.5266568815350365]\n",
      " [1.0 0.0 0.0 1.0 8.881784197001253e-17 -1.0735697969752667]\n",
      " [0.0 1.0 0.0 0.0 1.3401398300419485 1.3875383225057691]\n",
      " [1.0 0.0 1.0 0.0 1.6307725642679132 1.752146932799256]\n",
      " [0.0 1.0 0.0 0.0 -0.25834020820085757 0.2937124916253087]]\n"
     ]
    }
   ],
   "source": [
    "from sklearn.compose import ColumnTransformer # compose\n",
    "from sklearn.preprocessing import OneHotEncoder\n",
    "ct = ColumnTransformer(transformers=[('encoder', OneHotEncoder(), [0])], remainder='passthrough')\n",
    "x = ct.fit_transform(x)\n",
    "print(x)"
   ]
  },
  {
   "cell_type": "markdown",
   "id": "6df6df48",
   "metadata": {},
   "source": [
    "## Encoding the dependent variable"
   ]
  },
  {
   "cell_type": "code",
   "execution_count": 12,
   "id": "3ef94865",
   "metadata": {},
   "outputs": [
    {
     "name": "stdout",
     "output_type": "stream",
     "text": [
      "[0 1 0 0 1 1 0 1 0 1]\n"
     ]
    }
   ],
   "source": [
    "from sklearn.preprocessing import LabelEncoder\n",
    "le = LabelEncoder()\n",
    "y = le.fit_transform(y)\n",
    "print(y)"
   ]
  },
  {
   "cell_type": "markdown",
   "id": "e73372e7",
   "metadata": {},
   "source": [
    "## Feature Scaling (SCALER NOT SCALAR)"
   ]
  },
  {
   "cell_type": "code",
   "execution_count": 21,
   "id": "a2832511",
   "metadata": {},
   "outputs": [
    {
     "name": "stdout",
     "output_type": "stream",
     "text": [
      "[[0.0 1.0 0.0 -0.6546536707079771 0.7588743615900191 0.7494732544921673]\n",
      " [1.0 0.0 0.0 1.5275252316519463 -1.7115038793306814 -1.4381784072687536]\n",
      " [1.0 0.0 1.0 -0.6546536707079771 -1.2755547779917342 -0.8912654918285233]\n",
      " [1.0 0.0 0.0 1.5275252316519463 -0.1130238410878752 -0.25320042381492147]\n",
      " [1.0 0.0 1.0 -0.6546536707079771 0.17760889313808956\n",
      "  2.357833340847479e-16]\n",
      " [0.0 1.0 0.0 -0.6546536707079771 -0.5489729424268224 -0.5266568815350365]\n",
      " [1.0 0.0 0.0 1.5275252316519463 1.2212453270876723e-16\n",
      "  -1.0735697969752667]\n",
      " [0.0 1.0 0.0 -0.6546536707079771 1.3401398300419485 1.3875383225057691]\n",
      " [1.0 0.0 1.0 -0.6546536707079771 1.6307725642679132 1.752146932799256]\n",
      " [0.0 1.0 0.0 -0.6546536707079771 -0.2583402082008575 0.2937124916253087]]\n"
     ]
    }
   ],
   "source": [
    "from sklearn.preprocessing import StandardScaler # STANDARDSCALER\n",
    "sc = StandardScaler()\n",
    "x[:, 3:5] = sc.fit_transform(x[:, 3:5]) # 5 EXCLUDED **** or can do [:, 3:]\n",
    "print(x)"
   ]
  },
  {
   "cell_type": "markdown",
   "id": "06e22b17",
   "metadata": {},
   "source": [
    "## Splitting dataset into train and test set"
   ]
  },
  {
   "cell_type": "code",
   "execution_count": 17,
   "id": "06beb60d",
   "metadata": {},
   "outputs": [],
   "source": [
    "from sklearn.model_selection import train_test_split\n",
    "x_train, x_test, y_train, y_test = train_test_split(x, y, test_size=0.3)"
   ]
  },
  {
   "cell_type": "code",
   "execution_count": 18,
   "id": "7749badb",
   "metadata": {},
   "outputs": [
    {
     "name": "stdout",
     "output_type": "stream",
     "text": [
      "[[1.0 0.0 0.0 1.3401398300419485 1.3875383225057691]\n",
      " [0.0 0.0 1.0 8.881784197001253e-17 -1.0735697969752667]\n",
      " [1.0 0.0 0.0 0.7588743615900191 0.7494732544921673]\n",
      " [0.0 1.0 0.0 1.6307725642679132 1.752146932799256]\n",
      " [1.0 0.0 0.0 -0.25834020820085757 0.2937124916253087]\n",
      " [0.0 1.0 0.0 0.17760889313808953 2.357833340847479e-16]\n",
      " [0.0 0.0 1.0 -1.7115038793306814 -1.4381784072687536]]\n",
      "\n",
      "[[1.0 0.0 0.0 -0.5489729424268224 -0.5266568815350365]\n",
      " [0.0 0.0 1.0 -0.11302384108787522 -0.25320042381492147]\n",
      " [0.0 1.0 0.0 -1.2755547779917342 -0.8912654918285233]]\n",
      "\n",
      "[1 0 0 0 1 1 1]\n",
      "\n",
      "[1 0 0]\n"
     ]
    }
   ],
   "source": [
    "print(x_train, x_test, y_train, y_test, sep='\\n\\n')"
   ]
  },
  {
   "cell_type": "code",
   "execution_count": null,
   "id": "8f30d96e",
   "metadata": {},
   "outputs": [],
   "source": []
  }
 ],
 "metadata": {
  "kernelspec": {
   "display_name": "Python 3 (ipykernel)",
   "language": "python",
   "name": "python3"
  },
  "language_info": {
   "codemirror_mode": {
    "name": "ipython",
    "version": 3
   },
   "file_extension": ".py",
   "mimetype": "text/x-python",
   "name": "python",
   "nbconvert_exporter": "python",
   "pygments_lexer": "ipython3",
   "version": "3.9.6"
  }
 },
 "nbformat": 4,
 "nbformat_minor": 5
}
